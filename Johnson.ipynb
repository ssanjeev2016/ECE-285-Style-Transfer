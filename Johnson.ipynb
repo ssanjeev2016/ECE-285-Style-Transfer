{
 "cells": [
  {
   "cell_type": "code",
   "execution_count": 9,
   "metadata": {},
   "outputs": [],
   "source": [
    "%matplotlib notebook\n",
    "import os\n",
    "import numpy as np\n",
    "import torch\n",
    "from torch import nn\n",
    "from torch.nn import functional as F\n",
    "import torch.utils.data as td\n",
    "import torchvision as tv\n",
    "import pandas as pd\n",
    "from PIL import Image\n",
    "from matplotlib import pyplot as plt\n",
    "import nntools as nt"
   ]
  },
  {
   "cell_type": "code",
   "execution_count": 10,
   "metadata": {},
   "outputs": [
    {
     "name": "stdout",
     "output_type": "stream",
     "text": [
      "cuda\n"
     ]
    }
   ],
   "source": [
    "device = 'cuda' if torch.cuda.is_available() else 'cpu'\n",
    "print(device)"
   ]
  },
  {
   "cell_type": "code",
   "execution_count": 22,
   "metadata": {},
   "outputs": [],
   "source": [
    "class NNRegressor(nt.NeuralNetwork):\n",
    "    def __init__(self):\n",
    "        super(NNRegressor, self).__init__()\n",
    "        self.MSE = nn.MSELoss(size_average=None, reduce=None, reduction='sum')\n",
    "    def criterion(self, y, d):\n",
    "        return self.MSE(y, d)"
   ]
  },
  {
   "cell_type": "code",
   "execution_count": 23,
   "metadata": {},
   "outputs": [],
   "source": [
    "vgg = tv.models.vgg16(pretrained=True)"
   ]
  },
  {
   "cell_type": "code",
   "execution_count": 24,
   "metadata": {},
   "outputs": [],
   "source": [
    "class ImageTransform(NNClassifier):\n",
    "    def __init__(self):\n",
    "        super(ImageTransform, self).__init__()\n",
    "    \n",
    "        self.pad = torch.nn.ReflectionPad2d(40)\n",
    "        self.conv1 = torch.nn.Conv2d(3,32,9)\n",
    "        self.bn1 = torch.nn.BatchNorm2d(32)\n",
    "        self.conv2 = torch.nn.Conv2d(32,64,3,stride=2)\n",
    "        self.bn2 = torch.nn.BatchNorm2d(64)\n",
    "        self.conv3 = torch.nn.Conv2d(64,128,3,stride=2)\n",
    "        self.bn3 = torch.nn.BatchNorm2d(128)\n",
    "        self.res1 = nn.Sequential(\n",
    "            torch.nn.Conv2d(128,128,3),\n",
    "            torch.nn.BatchNorm2d(128),\n",
    "            torch.nn.ReLU(),\n",
    "            torch.nn.Conv2d(128,128,3),\n",
    "            torch.nn.BatchNorm2d(128)\n",
    "        )\n",
    "        self.res2 = nn.Sequential(\n",
    "            torch.nn.Conv2d(128,128,3),\n",
    "            torch.nn.BatchNorm2d(128),\n",
    "            torch.nn.ReLU(),\n",
    "            torch.nn.Conv2d(128,128,3),\n",
    "            torch.nn.BatchNorm2d(128)\n",
    "        )\n",
    "        self.res3 = nn.Sequential(\n",
    "            torch.nn.Conv2d(128,128,3),\n",
    "            torch.nn.BatchNorm2d(128),\n",
    "            torch.nn.ReLU(),\n",
    "            torch.nn.Conv2d(128,128,3),\n",
    "            torch.nn.BatchNorm2d(128)\n",
    "        )\n",
    "        self.res4 = nn.Sequential(\n",
    "            torch.nn.Conv2d(128,128,3),\n",
    "            torch.nn.BatchNorm2d(128),\n",
    "            torch.nn.ReLU(),\n",
    "            torch.nn.Conv2d(128,128,3),\n",
    "            torch.nn.BatchNorm2d(128)\n",
    "        )\n",
    "        self.conv4 = torch.nn.Conv2d(128,64,3,stride=0.5)\n",
    "        self.bn4 = torch.nn.BatchNorm2d(64)\n",
    "        self.conv5 = torch.nn.Conv2d(64,32,3,stride=0.5)\n",
    "        self.bn5 = torch.nn.BatchNorm2d(32)\n",
    "        self.conv6 = torch.nn.Conv2d(32,3,3)\n",
    "        self.tanh = torch.nn.Tanh()\n",
    "        \n",
    "    def forward(self, x):\n",
    "        h = self.pad(x)\n",
    "        h = F.relu(self.bn1(self.conv1(h)))\n",
    "        h = F.relu(self.bn2(self.conv2(h)))\n",
    "        h = F.relu(self.bn3(self.conv3(h)))\n",
    "        h = F.relu(h + self.res1(h))\n",
    "        h = F.relu(h + self.res2(h))\n",
    "        h = F.relu(h + self.res3(h))\n",
    "        h = F.relu(h + self.res4(h))\n",
    "        h = F.relu(self.bn4(self.conv4(h)))\n",
    "        h = F.relu(self.bn5(self.conv5(h)))\n",
    "        h = self.conv6(h)\n",
    "        y = (self.tanh(h) + 1) * 255 / 2 # scaled tanh from paper\n",
    "        return y\n",
    "i = ImageTransform()"
   ]
  },
  {
   "cell_type": "code",
   "execution_count": 25,
   "metadata": {},
   "outputs": [
    {
     "name": "stdout",
     "output_type": "stream",
     "text": [
      "ImageTransform(\n",
      "  (MSE): MSELoss()\n",
      "  (pad): ReflectionPad2d((40, 40, 40, 40))\n",
      "  (conv1): Conv2d(3, 32, kernel_size=(9, 9), stride=(1, 1))\n",
      "  (bn1): BatchNorm2d(32, eps=1e-05, momentum=0.1, affine=True, track_running_stats=True)\n",
      "  (conv2): Conv2d(32, 64, kernel_size=(3, 3), stride=(2, 2))\n",
      "  (bn2): BatchNorm2d(64, eps=1e-05, momentum=0.1, affine=True, track_running_stats=True)\n",
      "  (conv3): Conv2d(64, 128, kernel_size=(3, 3), stride=(2, 2))\n",
      "  (bn3): BatchNorm2d(128, eps=1e-05, momentum=0.1, affine=True, track_running_stats=True)\n",
      "  (res1): Sequential(\n",
      "    (0): Conv2d(128, 128, kernel_size=(3, 3), stride=(1, 1))\n",
      "    (1): BatchNorm2d(128, eps=1e-05, momentum=0.1, affine=True, track_running_stats=True)\n",
      "    (2): ReLU()\n",
      "    (3): Conv2d(128, 128, kernel_size=(3, 3), stride=(1, 1))\n",
      "    (4): BatchNorm2d(128, eps=1e-05, momentum=0.1, affine=True, track_running_stats=True)\n",
      "  )\n",
      "  (res2): Sequential(\n",
      "    (0): Conv2d(128, 128, kernel_size=(3, 3), stride=(1, 1))\n",
      "    (1): BatchNorm2d(128, eps=1e-05, momentum=0.1, affine=True, track_running_stats=True)\n",
      "    (2): ReLU()\n",
      "    (3): Conv2d(128, 128, kernel_size=(3, 3), stride=(1, 1))\n",
      "    (4): BatchNorm2d(128, eps=1e-05, momentum=0.1, affine=True, track_running_stats=True)\n",
      "  )\n",
      "  (res3): Sequential(\n",
      "    (0): Conv2d(128, 128, kernel_size=(3, 3), stride=(1, 1))\n",
      "    (1): BatchNorm2d(128, eps=1e-05, momentum=0.1, affine=True, track_running_stats=True)\n",
      "    (2): ReLU()\n",
      "    (3): Conv2d(128, 128, kernel_size=(3, 3), stride=(1, 1))\n",
      "    (4): BatchNorm2d(128, eps=1e-05, momentum=0.1, affine=True, track_running_stats=True)\n",
      "  )\n",
      "  (res4): Sequential(\n",
      "    (0): Conv2d(128, 128, kernel_size=(3, 3), stride=(1, 1))\n",
      "    (1): BatchNorm2d(128, eps=1e-05, momentum=0.1, affine=True, track_running_stats=True)\n",
      "    (2): ReLU()\n",
      "    (3): Conv2d(128, 128, kernel_size=(3, 3), stride=(1, 1))\n",
      "    (4): BatchNorm2d(128, eps=1e-05, momentum=0.1, affine=True, track_running_stats=True)\n",
      "  )\n",
      "  (conv4): Conv2d(128, 64, kernel_size=(3, 3), stride=(0.5, 0.5))\n",
      "  (bn4): BatchNorm2d(64, eps=1e-05, momentum=0.1, affine=True, track_running_stats=True)\n",
      "  (conv5): Conv2d(64, 32, kernel_size=(3, 3), stride=(0.5, 0.5))\n",
      "  (bn5): BatchNorm2d(32, eps=1e-05, momentum=0.1, affine=True, track_running_stats=True)\n",
      "  (conv6): Conv2d(32, 3, kernel_size=(3, 3), stride=(1, 1))\n",
      "  (tanh): Tanh()\n",
      ")\n"
     ]
    }
   ],
   "source": [
    "print(i)"
   ]
  },
  {
   "cell_type": "code",
   "execution_count": null,
   "metadata": {},
   "outputs": [],
   "source": []
  },
  {
   "cell_type": "code",
   "execution_count": null,
   "metadata": {},
   "outputs": [],
   "source": []
  }
 ],
 "metadata": {
  "kernelspec": {
   "display_name": "Python 3",
   "language": "python",
   "name": "python3"
  },
  "language_info": {
   "codemirror_mode": {
    "name": "ipython",
    "version": 3
   },
   "file_extension": ".py",
   "mimetype": "text/x-python",
   "name": "python",
   "nbconvert_exporter": "python",
   "pygments_lexer": "ipython3",
   "version": "3.7.3"
  }
 },
 "nbformat": 4,
 "nbformat_minor": 2
}
